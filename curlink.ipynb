{
 "cells": [
  {
   "cell_type": "code",
   "execution_count": 13,
   "id": "30ba0562",
   "metadata": {},
   "outputs": [],
   "source": [
    "import pandas as pd\n",
    "import numpy as np\n",
    "import torch\n",
    "import dgl\n",
    "\n",
    "from scipy.sparse import coo_matrix\n",
    "\n",
    "from sklearn.metrics import mean_squared_error"
   ]
  },
  {
   "cell_type": "markdown",
   "id": "35621d21",
   "metadata": {},
   "source": [
    "# Загрузка данных"
   ]
  },
  {
   "cell_type": "markdown",
   "id": "e3fe0e8e",
   "metadata": {},
   "source": [
    "В бейзлайне реализована простейшая модель на эго-графе.\n",
    "\n",
    "Для каждой пары вершин u и v эго-графа попытаемся найти всех общих \"друзей\" w. Силой связи между вершинами u и v будем считать средную силу связи между ними и общими друзьями.\n",
    "\n",
    "Поскольку обучение для такой модели не требуется, будем пользоваться только тестовой выборкой."
   ]
  },
  {
   "cell_type": "code",
   "execution_count": 11,
   "id": "daef4ca8",
   "metadata": {},
   "outputs": [
    {
     "name": "stdout",
     "output_type": "stream",
     "text": [
      "CPU times: total: 49.2 s\n",
      "Wall time: 49.2 s\n"
     ]
    }
   ],
   "source": [
    "%%time\n",
    "\n",
    "data = pd.read_csv(\"data/train.csv\")\n",
    "submission = pd.read_csv(\"data/submission.csv\")\n",
    "attr = pd.read_csv(\"data/attr.csv\")"
   ]
  },
  {
   "cell_type": "markdown",
   "id": "d688b07f",
   "metadata": {},
   "source": [
    "**Разобьем на обучающие и тестовые данные**"
   ]
  },
  {
   "cell_type": "code",
   "execution_count": 6,
   "id": "3bb237e9",
   "metadata": {},
   "outputs": [],
   "source": [
    "sep = 854698492346\n",
    "data_train, data_test = data[data['ego_id'] < sep], data[data['ego_id'] >= sep]\n",
    "\n",
    "X_train, y_train = data_train.iloc[:, 0:-3], data_train.iloc[:, -3]\n",
    "X_test, y_test = data_test.iloc[:, 0:-3], data_test.iloc[:, -3]"
   ]
  },
  {
   "cell_type": "markdown",
   "id": "dd6096ef",
   "metadata": {},
   "source": [
    "**dgl.graph**"
   ]
  },
  {
   "cell_type": "code",
   "execution_count": 21,
   "id": "f4c7e09b",
   "metadata": {},
   "outputs": [],
   "source": [
    "WELL_KNOWN = 70\n",
    "\n",
    "def format_t(x):\n",
    "    return np.tanh(x / WELL_KNOWN)"
   ]
  },
  {
   "cell_type": "code",
   "execution_count": 26,
   "id": "9c62e225",
   "metadata": {},
   "outputs": [
    {
     "data": {
      "text/plain": [
       "array([131, 135,  47, ...,  30,   3,   4], dtype=int64)"
      ]
     },
     "execution_count": 26,
     "metadata": {},
     "output_type": "execute_result"
    }
   ],
   "source": [
    "src = X_train[\"u\"].to_numpy()\n",
    "dst = X_train[\"v\"]"
   ]
  },
  {
   "cell_type": "code",
   "execution_count": 24,
   "id": "d7338216",
   "metadata": {},
   "outputs": [
    {
     "data": {
      "text/html": [
       "<div>\n",
       "<style scoped>\n",
       "    .dataframe tbody tr th:only-of-type {\n",
       "        vertical-align: middle;\n",
       "    }\n",
       "\n",
       "    .dataframe tbody tr th {\n",
       "        vertical-align: top;\n",
       "    }\n",
       "\n",
       "    .dataframe thead th {\n",
       "        text-align: right;\n",
       "    }\n",
       "</style>\n",
       "<table border=\"1\" class=\"dataframe\">\n",
       "  <thead>\n",
       "    <tr style=\"text-align: right;\">\n",
       "      <th></th>\n",
       "      <th>ego_id</th>\n",
       "      <th>u</th>\n",
       "      <th>v</th>\n",
       "      <th>t</th>\n",
       "    </tr>\n",
       "  </thead>\n",
       "  <tbody>\n",
       "    <tr>\n",
       "      <th>0</th>\n",
       "      <td>0</td>\n",
       "      <td>131</td>\n",
       "      <td>84</td>\n",
       "      <td>148.0</td>\n",
       "    </tr>\n",
       "    <tr>\n",
       "      <th>1</th>\n",
       "      <td>0</td>\n",
       "      <td>135</td>\n",
       "      <td>164</td>\n",
       "      <td>396.7</td>\n",
       "    </tr>\n",
       "    <tr>\n",
       "      <th>2</th>\n",
       "      <td>0</td>\n",
       "      <td>47</td>\n",
       "      <td>15</td>\n",
       "      <td>NaN</td>\n",
       "    </tr>\n",
       "    <tr>\n",
       "      <th>3</th>\n",
       "      <td>0</td>\n",
       "      <td>5</td>\n",
       "      <td>4</td>\n",
       "      <td>594.5</td>\n",
       "    </tr>\n",
       "    <tr>\n",
       "      <th>4</th>\n",
       "      <td>0</td>\n",
       "      <td>176</td>\n",
       "      <td>219</td>\n",
       "      <td>45.5</td>\n",
       "    </tr>\n",
       "    <tr>\n",
       "      <th>...</th>\n",
       "      <td>...</td>\n",
       "      <td>...</td>\n",
       "      <td>...</td>\n",
       "      <td>...</td>\n",
       "    </tr>\n",
       "    <tr>\n",
       "      <th>61517082</th>\n",
       "      <td>850403525534</td>\n",
       "      <td>17</td>\n",
       "      <td>9</td>\n",
       "      <td>0.3</td>\n",
       "    </tr>\n",
       "    <tr>\n",
       "      <th>61517083</th>\n",
       "      <td>850403525534</td>\n",
       "      <td>26</td>\n",
       "      <td>25</td>\n",
       "      <td>0.3</td>\n",
       "    </tr>\n",
       "    <tr>\n",
       "      <th>61517084</th>\n",
       "      <td>850403525534</td>\n",
       "      <td>30</td>\n",
       "      <td>22</td>\n",
       "      <td>0.2</td>\n",
       "    </tr>\n",
       "    <tr>\n",
       "      <th>61517085</th>\n",
       "      <td>850403525534</td>\n",
       "      <td>3</td>\n",
       "      <td>1</td>\n",
       "      <td>51.7</td>\n",
       "    </tr>\n",
       "    <tr>\n",
       "      <th>61517086</th>\n",
       "      <td>850403525534</td>\n",
       "      <td>4</td>\n",
       "      <td>9</td>\n",
       "      <td>0.3</td>\n",
       "    </tr>\n",
       "  </tbody>\n",
       "</table>\n",
       "<p>61517087 rows × 4 columns</p>\n",
       "</div>"
      ],
      "text/plain": [
       "                ego_id    u    v      t\n",
       "0                    0  131   84  148.0\n",
       "1                    0  135  164  396.7\n",
       "2                    0   47   15    NaN\n",
       "3                    0    5    4  594.5\n",
       "4                    0  176  219   45.5\n",
       "...                ...  ...  ...    ...\n",
       "61517082  850403525534   17    9    0.3\n",
       "61517083  850403525534   26   25    0.3\n",
       "61517084  850403525534   30   22    0.2\n",
       "61517085  850403525534    3    1   51.7\n",
       "61517086  850403525534    4    9    0.3\n",
       "\n",
       "[61517087 rows x 4 columns]"
      ]
     },
     "execution_count": 24,
     "metadata": {},
     "output_type": "execute_result"
    }
   ],
   "source": [
    "X_train"
   ]
  },
  {
   "cell_type": "code",
   "execution_count": null,
   "id": "ec730b2b",
   "metadata": {},
   "outputs": [],
   "source": []
  }
 ],
 "metadata": {
  "kernelspec": {
   "display_name": "Python 3 (ipykernel)",
   "language": "python",
   "name": "python3"
  },
  "language_info": {
   "codemirror_mode": {
    "name": "ipython",
    "version": 3
   },
   "file_extension": ".py",
   "mimetype": "text/x-python",
   "name": "python",
   "nbconvert_exporter": "python",
   "pygments_lexer": "ipython3",
   "version": "3.11.3"
  }
 },
 "nbformat": 4,
 "nbformat_minor": 5
}
