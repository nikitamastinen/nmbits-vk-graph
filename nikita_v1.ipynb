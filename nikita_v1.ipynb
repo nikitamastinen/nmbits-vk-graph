{
 "cells": [
  {
   "cell_type": "code",
   "execution_count": 2,
   "id": "30ba0562",
   "metadata": {},
   "outputs": [],
   "source": [
    "import pandas as pd\n",
    "import numpy as np\n",
    "\n",
    "from sklearn.metrics import mean_squared_error"
   ]
  },
  {
   "cell_type": "code",
   "execution_count": 15,
   "id": "2bbb91fb",
   "metadata": {},
   "outputs": [],
   "source": [
    "dt = pd.read_csv(\"data/test.csv\")"
   ]
  },
  {
   "cell_type": "code",
   "execution_count": 46,
   "id": "1cf5331c",
   "metadata": {},
   "outputs": [
    {
     "data": {
      "text/plain": [
       "(6247722, 7)"
      ]
     },
     "execution_count": 46,
     "metadata": {},
     "output_type": "execute_result"
    }
   ],
   "source": [
    "dt[dt['t'].isna()].shape"
   ]
  },
  {
   "cell_type": "markdown",
   "id": "35621d21",
   "metadata": {},
   "source": [
    "# Загрузка данных"
   ]
  },
  {
   "cell_type": "markdown",
   "id": "e3fe0e8e",
   "metadata": {},
   "source": [
    "В бейзлайне реализована простейшая модель на эго-графе.\n",
    "\n",
    "Для каждой пары вершин u и v эго-графа попытаемся найти всех общих \"друзей\" w. Силой связи между вершинами u и v будем считать средную силу связи между ними и общими друзьями.\n",
    "\n",
    "Поскольку обучение для такой модели не требуется, будем пользоваться только тестовой выборкой."
   ]
  },
  {
   "cell_type": "code",
   "execution_count": 10,
   "id": "daef4ca8",
   "metadata": {},
   "outputs": [
    {
     "name": "stdout",
     "output_type": "stream",
     "text": [
      "CPU times: total: 49.5 s\n",
      "Wall time: 49.5 s\n"
     ]
    }
   ],
   "source": [
    "%%time\n",
    "\n",
    "data = pd.read_csv(\"data/train.csv\")\n",
    "attributes = pd.read_csv(\"data/attr.csv\")\n",
    "submission = pd.read_csv(\"data/submission.csv\")"
   ]
  },
  {
   "cell_type": "code",
   "execution_count": 71,
   "id": "9143f8c5",
   "metadata": {},
   "outputs": [
    {
     "data": {
      "text/html": [
       "<div>\n",
       "<style scoped>\n",
       "    .dataframe tbody tr th:only-of-type {\n",
       "        vertical-align: middle;\n",
       "    }\n",
       "\n",
       "    .dataframe tbody tr th {\n",
       "        vertical-align: top;\n",
       "    }\n",
       "\n",
       "    .dataframe thead th {\n",
       "        text-align: right;\n",
       "    }\n",
       "</style>\n",
       "<table border=\"1\" class=\"dataframe\">\n",
       "  <thead>\n",
       "    <tr style=\"text-align: right;\">\n",
       "      <th></th>\n",
       "      <th>ego_id</th>\n",
       "      <th>u</th>\n",
       "      <th>age</th>\n",
       "      <th>city_id</th>\n",
       "      <th>sex</th>\n",
       "      <th>school</th>\n",
       "      <th>university</th>\n",
       "    </tr>\n",
       "  </thead>\n",
       "  <tbody>\n",
       "    <tr>\n",
       "      <th>0</th>\n",
       "      <td>0</td>\n",
       "      <td>227</td>\n",
       "      <td>68</td>\n",
       "      <td>-1</td>\n",
       "      <td>1</td>\n",
       "      <td>778293348</td>\n",
       "      <td>-1</td>\n",
       "    </tr>\n",
       "    <tr>\n",
       "      <th>1</th>\n",
       "      <td>0</td>\n",
       "      <td>45</td>\n",
       "      <td>38</td>\n",
       "      <td>237065842</td>\n",
       "      <td>1</td>\n",
       "      <td>82803468</td>\n",
       "      <td>238500268</td>\n",
       "    </tr>\n",
       "    <tr>\n",
       "      <th>2</th>\n",
       "      <td>0</td>\n",
       "      <td>142</td>\n",
       "      <td>60</td>\n",
       "      <td>237065842</td>\n",
       "      <td>1</td>\n",
       "      <td>196560139</td>\n",
       "      <td>-1</td>\n",
       "    </tr>\n",
       "    <tr>\n",
       "      <th>3</th>\n",
       "      <td>0</td>\n",
       "      <td>280</td>\n",
       "      <td>66</td>\n",
       "      <td>-1</td>\n",
       "      <td>2</td>\n",
       "      <td>963209731</td>\n",
       "      <td>720783270</td>\n",
       "    </tr>\n",
       "    <tr>\n",
       "      <th>4</th>\n",
       "      <td>0</td>\n",
       "      <td>41</td>\n",
       "      <td>18</td>\n",
       "      <td>-1</td>\n",
       "      <td>2</td>\n",
       "      <td>308862409</td>\n",
       "      <td>-1</td>\n",
       "    </tr>\n",
       "  </tbody>\n",
       "</table>\n",
       "</div>"
      ],
      "text/plain": [
       "   ego_id    u  age    city_id  sex     school  university\n",
       "0       0  227   68         -1    1  778293348          -1\n",
       "1       0   45   38  237065842    1   82803468   238500268\n",
       "2       0  142   60  237065842    1  196560139          -1\n",
       "3       0  280   66         -1    2  963209731   720783270\n",
       "4       0   41   18         -1    2  308862409          -1"
      ]
     },
     "execution_count": 71,
     "metadata": {},
     "output_type": "execute_result"
    }
   ],
   "source": [
    "attributes.head()"
   ]
  },
  {
   "cell_type": "code",
   "execution_count": 72,
   "id": "86fb127f",
   "metadata": {},
   "outputs": [
    {
     "name": "stdout",
     "output_type": "stream",
     "text": [
      "(0, 227, 68, -1, 1, 778293348, -1)\n",
      "(0, 45, 38, 237065842, 1, 82803468, 238500268)\n",
      "(0, 142, 60, 237065842, 1, 196560139, -1)\n",
      "(0, 280, 66, -1, 2, 963209731, 720783270)\n",
      "(0, 41, 18, -1, 2, 308862409, -1)\n",
      "(0, 284, 30, 515825832, 2, 523273865, 219762299)\n",
      "(0, 39, 107, -1, 2, -1, -1)\n",
      "(0, 204, 21, 298413605, 1, -1, 70724144)\n",
      "(0, 224, 21, 298413605, 1, -1, -1)\n",
      "(0, 138, 43, 238321946, 1, 551175147, 359213661)\n",
      "(0, 24, 42, -1, 1, 305311702, 720787027)\n",
      "(0, 271, 52, -1, 2, -1, -1)\n",
      "(0, 102, 30, 515825832, 1, 249333954, 894086074)\n",
      "(0, 129, 62, 237065842, 2, 217222933, -1)\n",
      "(0, 188, 21, 237065842, 2, -1, 149014508)\n",
      "(0, 218, 35, 237065842, 2, 532789710, 66999397)\n",
      "(0, 270, 25, 720792568, 2, -1, -1)\n",
      "(0, 52, 49, 238321946, 1, 829727092, 991369526)\n",
      "(0, 68, 50, 237065842, 1, 682233918, 532275706)\n",
      "(0, 287, 78, 237065842, 2, 497266803, -1)\n",
      "(0, 209, 22, 237065842, 2, 75365905, 149014508)\n",
      "(0, 51, 43, 237065842, 1, 829727092, 991369526)\n",
      "(0, 30, 30, 237065842, 1, 639658522, 310894832)\n",
      "(0, 144, 32, 237065842, 1, -1, -1)\n",
      "(0, 177, 23, 237065842, 1, 284205333, 149014508)\n",
      "(0, 222, 24, 122329603, 2, 843263847, 70049556)\n",
      "(0, 197, 21, 89878857, 1, -1, 525603010)\n",
      "(0, 159, 16, 237065842, 2, 996782138, 193607289)\n",
      "(0, 298, 48, 529466071, 2, -1, -1)\n",
      "(0, 95, 120, 237065842, 2, -1, -1)\n",
      "(0, 6, 30, 237065842, 1, 205429743, 62501167)\n",
      "(0, 98, 55, 237065842, 1, 71596531, 606197712)\n",
      "(0, 286, 30, 237065842, 2, 270162662, 66999397)\n",
      "(0, 247, 39, -1, 2, -1, -1)\n",
      "(0, 71, 45, 237065842, 1, 363901889, 869698893)\n",
      "(0, 77, 44, 237065842, 2, 905956162, 781177901)\n",
      "(0, 181, 28, -1, 2, -1, -1)\n",
      "(0, 279, 33, 237065842, 1, 9694743, 815498626)\n",
      "(0, 241, 21, -1, 1, -1, -1)\n",
      "(0, 46, 43, 237065842, 2, -1, 912585428)\n",
      "(0, 69, 17, 237065842, 1, -1, -1)\n",
      "(0, 118, 41, -1, 1, 743047950, -1)\n",
      "(0, 254, 43, 505098895, 2, 219310260, -1)\n",
      "(0, 64, 38, 237065842, 1, -1, 921792091)\n",
      "(0, 84, 50, 237065842, 1, 182400947, 310894832)\n",
      "(0, 165, 14, 515825832, 1, 539356769, 991369526)\n",
      "(0, 191, 21, 298413605, 2, -1, -1)\n",
      "(0, 201, 22, 237065842, 1, 67095891, -1)\n",
      "(0, 100, 42, 237065842, 1, 836432614, 823251435)\n",
      "(0, 140, 62, 237065842, 1, -1, 772187099)\n",
      "(0, 149, 52, 237065842, 1, 483127110, 543018473)\n",
      "(0, 178, -1, 238321946, 1, 234476915, 991369526)\n",
      "(0, 67, 23, 515825832, 1, -1, 831954113)\n",
      "(0, 90, 45, 237065842, 1, -1, 212083796)\n",
      "(0, 205, 44, 583984465, 1, 423469301, 991369526)\n",
      "(0, 66, 34, 237065842, 1, 897631432, 541978296)\n",
      "(0, 145, 43, 238321946, 1, 468759098, 991369526)\n",
      "(0, 150, 22, 237065842, 1, -1, -1)\n",
      "(0, 113, 23, 237065842, 1, 2552673, 325925770)\n",
      "(0, 166, 41, 238321946, 1, 364843484, 991369526)\n",
      "(0, 176, 21, 237065842, 1, 967669435, 149014508)\n",
      "(0, 4, 40, -1, 2, 829727092, 541978296)\n",
      "(0, 58, 30, 237065842, 1, 356940751, 335777948)\n",
      "(0, 75, 38, 237065842, 1, 589595521, 188886628)\n",
      "(0, 105, 44, 237065842, 1, -1, 991369526)\n",
      "(0, 107, 43, 238321946, 1, 31138932, 991369526)\n",
      "(0, 128, 44, 637930249, 1, 529723305, 991369526)\n",
      "(0, 253, 14, 237065842, 1, -1, -1)\n",
      "(0, 112, 28, 237065842, 1, 646143676, 836217893)\n",
      "(0, 285, 30, 237065842, 2, 287804418, -1)\n",
      "(0, 57, 73, -1, 1, 894474489, -1)\n",
      "(0, 275, 53, 515825832, 2, 537843360, -1)\n",
      "(0, 126, 44, 238321946, 1, -1, -1)\n",
      "(0, 0, 43, 237065842, 1, -1, -1)\n",
      "(0, 132, 31, 298413605, 2, 480571368, 903937667)\n",
      "(0, 143, 49, 237065842, 1, 770359202, -1)\n",
      "(0, 22, 33, 237065842, 2, 7900518, -1)\n",
      "(0, 242, 21, -1, 2, -1, 98377478)\n",
      "(0, 296, 35, 237065842, 2, -1, -1)\n",
      "(0, 299, 48, 515825832, 2, -1, -1)\n",
      "(0, 154, 40, 237065842, 2, 542665184, -1)\n",
      "(0, 47, 41, -1, 2, -1, -1)\n",
      "(0, 48, 49, 237065842, 1, -1, 141216027)\n",
      "(0, 15, 42, 237065842, 2, 434584929, 240636691)\n",
      "(0, 19, 50, 237065842, 1, -1, -1)\n",
      "(0, 111, 34, -1, 2, 698166686, 74358164)\n",
      "(0, 259, 21, 237065842, 1, -1, -1)\n",
      "(0, 264, 50, 237065842, 1, -1, 815498626)\n",
      "(0, 110, 44, 237065842, 1, 640255628, -1)\n",
      "(0, 28, 38, 237065842, 1, 970055723, 114941845)\n",
      "(0, 62, 23, 237065842, 1, 986417317, 149014508)\n",
      "(0, 148, 58, 237065842, 2, 743042029, 194788625)\n",
      "(0, 117, 46, 979159080, 2, -1, 150135841)\n",
      "(0, 94, 63, 237065842, 1, 12969477, 836217893)\n",
      "(0, 131, 62, 237065842, 1, -1, -1)\n",
      "(0, 172, 29, 237065842, 1, 778293348, -1)\n",
      "(0, 260, 24, 237065842, 2, -1, 149014508)\n",
      "(0, 73, 42, 237065842, 1, 430811029, 66999397)\n",
      "(0, 121, 29, 237065842, 2, 800051075, -1)\n",
      "(0, 163, 44, 238321946, 1, 687438415, 991369526)\n"
     ]
    }
   ],
   "source": [
    "# generate cpp file\n",
    "result = []\n",
    "for j in zip(*[attributes[i][:100] for i in attributes.keys()]):\n",
    "    print(j)\n",
    "    result.append(j)\n",
    "with open('cpp_attributes')\n",
    "# for i in attributes:\n",
    "    "
   ]
  },
  {
   "cell_type": "code",
   "execution_count": 60,
   "id": "c7c50a47",
   "metadata": {},
   "outputs": [],
   "source": [
    "def generate_cpp_files():\n",
    "    cpp_attributes = attributes.copy()\n",
    "    cpp_attributes\n",
    "generate_cpp_files()"
   ]
  },
  {
   "cell_type": "code",
   "execution_count": 59,
   "id": "dc8912b9",
   "metadata": {},
   "outputs": [
    {
     "data": {
      "text/html": [
       "<div>\n",
       "<style scoped>\n",
       "    .dataframe tbody tr th:only-of-type {\n",
       "        vertical-align: middle;\n",
       "    }\n",
       "\n",
       "    .dataframe tbody tr th {\n",
       "        vertical-align: top;\n",
       "    }\n",
       "\n",
       "    .dataframe thead th {\n",
       "        text-align: right;\n",
       "    }\n",
       "</style>\n",
       "<table border=\"1\" class=\"dataframe\">\n",
       "  <thead>\n",
       "    <tr style=\"text-align: right;\">\n",
       "      <th></th>\n",
       "      <th>ego_id</th>\n",
       "      <th>u</th>\n",
       "      <th>age</th>\n",
       "      <th>city_id</th>\n",
       "      <th>sex</th>\n",
       "      <th>school</th>\n",
       "      <th>university</th>\n",
       "    </tr>\n",
       "  </thead>\n",
       "  <tbody>\n",
       "  </tbody>\n",
       "</table>\n",
       "</div>"
      ],
      "text/plain": [
       "Empty DataFrame\n",
       "Columns: [ego_id, u, age, city_id, sex, school, university]\n",
       "Index: []"
      ]
     },
     "execution_count": 59,
     "metadata": {},
     "output_type": "execute_result"
    }
   ],
   "source": [
    "attributes[attributes['university'].isna()]"
   ]
  },
  {
   "cell_type": "code",
   "execution_count": 23,
   "id": "920fffb8",
   "metadata": {},
   "outputs": [
    {
     "data": {
      "text/html": [
       "<div>\n",
       "<style scoped>\n",
       "    .dataframe tbody tr th:only-of-type {\n",
       "        vertical-align: middle;\n",
       "    }\n",
       "\n",
       "    .dataframe tbody tr th {\n",
       "        vertical-align: top;\n",
       "    }\n",
       "\n",
       "    .dataframe thead th {\n",
       "        text-align: right;\n",
       "    }\n",
       "</style>\n",
       "<table border=\"1\" class=\"dataframe\">\n",
       "  <thead>\n",
       "    <tr style=\"text-align: right;\">\n",
       "      <th></th>\n",
       "      <th>ego_id</th>\n",
       "      <th>u</th>\n",
       "      <th>v</th>\n",
       "      <th>x1</th>\n",
       "    </tr>\n",
       "  </thead>\n",
       "  <tbody>\n",
       "    <tr>\n",
       "      <th>0</th>\n",
       "      <td>8</td>\n",
       "      <td>0</td>\n",
       "      <td>93</td>\n",
       "      <td>0.000000</td>\n",
       "    </tr>\n",
       "    <tr>\n",
       "      <th>1</th>\n",
       "      <td>8</td>\n",
       "      <td>0</td>\n",
       "      <td>143</td>\n",
       "      <td>0.000000</td>\n",
       "    </tr>\n",
       "    <tr>\n",
       "      <th>2</th>\n",
       "      <td>8</td>\n",
       "      <td>0</td>\n",
       "      <td>151</td>\n",
       "      <td>1.606742</td>\n",
       "    </tr>\n",
       "    <tr>\n",
       "      <th>3</th>\n",
       "      <td>8</td>\n",
       "      <td>1</td>\n",
       "      <td>24</td>\n",
       "      <td>0.026496</td>\n",
       "    </tr>\n",
       "    <tr>\n",
       "      <th>4</th>\n",
       "      <td>8</td>\n",
       "      <td>5</td>\n",
       "      <td>4</td>\n",
       "      <td>0.159857</td>\n",
       "    </tr>\n",
       "  </tbody>\n",
       "</table>\n",
       "</div>"
      ],
      "text/plain": [
       "   ego_id  u    v        x1\n",
       "0       8  0   93  0.000000\n",
       "1       8  0  143  0.000000\n",
       "2       8  0  151  1.606742\n",
       "3       8  1   24  0.026496\n",
       "4       8  5    4  0.159857"
      ]
     },
     "execution_count": 23,
     "metadata": {},
     "output_type": "execute_result"
    }
   ],
   "source": [
    "submission.head()"
   ]
  },
  {
   "cell_type": "markdown",
   "id": "1769551e",
   "metadata": {},
   "source": [
    "**Разобьем на обучающие и тестовые данные**"
   ]
  },
  {
   "cell_type": "code",
   "execution_count": 22,
   "id": "fd12b390",
   "metadata": {},
   "outputs": [
    {
     "data": {
      "text/html": [
       "<div>\n",
       "<style scoped>\n",
       "    .dataframe tbody tr th:only-of-type {\n",
       "        vertical-align: middle;\n",
       "    }\n",
       "\n",
       "    .dataframe tbody tr th {\n",
       "        vertical-align: top;\n",
       "    }\n",
       "\n",
       "    .dataframe thead th {\n",
       "        text-align: right;\n",
       "    }\n",
       "</style>\n",
       "<table border=\"1\" class=\"dataframe\">\n",
       "  <thead>\n",
       "    <tr style=\"text-align: right;\">\n",
       "      <th></th>\n",
       "      <th>ego_id</th>\n",
       "      <th>u</th>\n",
       "      <th>v</th>\n",
       "      <th>x1</th>\n",
       "    </tr>\n",
       "  </thead>\n",
       "  <tbody>\n",
       "  </tbody>\n",
       "</table>\n",
       "</div>"
      ],
      "text/plain": [
       "Empty DataFrame\n",
       "Columns: [ego_id, u, v, x1]\n",
       "Index: []"
      ]
     },
     "execution_count": 22,
     "metadata": {},
     "output_type": "execute_result"
    }
   ],
   "source": [
    "submission[submission['ego_id'] == 0].head()"
   ]
  },
  {
   "cell_type": "code",
   "execution_count": 5,
   "id": "c3af15ff",
   "metadata": {},
   "outputs": [],
   "source": [
    "sep = 854698492346\n",
    "data_train, data_test = data[data['ego_id'] < sep], data[data['ego_id'] >= sep]\n",
    "\n",
    "X_train, y_train = data_train.iloc[:, 0:-3], data_train.iloc[:, -3]\n",
    "X_test, y_test = data_test.iloc[:, 0:-3], data_test.iloc[:, -3]"
   ]
  },
  {
   "cell_type": "code",
   "execution_count": 14,
   "id": "2b8307ef",
   "metadata": {},
   "outputs": [
    {
     "data": {
      "text/plain": [
       "0           148.0\n",
       "1           396.7\n",
       "2             NaN\n",
       "3           594.5\n",
       "4            45.5\n",
       "            ...  \n",
       "61517082      0.3\n",
       "61517083      0.3\n",
       "61517084      0.2\n",
       "61517085     51.7\n",
       "61517086      0.3\n",
       "Name: t, Length: 61517087, dtype: float64"
      ]
     },
     "execution_count": 14,
     "metadata": {},
     "output_type": "execute_result"
    }
   ],
   "source": [
    "# attributes.head()\n",
    "data_train['t']"
   ]
  },
  {
   "cell_type": "markdown",
   "id": "343f63f7",
   "metadata": {},
   "source": [
    "**Для визуализации графа**"
   ]
  },
  {
   "cell_type": "code",
   "execution_count": 19,
   "id": "17bf627b",
   "metadata": {
    "scrolled": false
   },
   "outputs": [
    {
     "name": "stdout",
     "output_type": "stream",
     "text": [
      "5-1\n",
      "14-3\n",
      "7-5\n",
      "5-7\n",
      "6-5\n",
      "16-11\n",
      "2-15\n",
      "11-16\n",
      "0-12\n",
      "7-8\n",
      "5-8\n",
      "15-4\n",
      "3-8\n",
      "12-9\n",
      "2-3\n",
      "1-4\n",
      "8-4\n",
      "0-2\n",
      "0-3\n",
      "2-4\n",
      "4-15\n",
      "11-12\n",
      "8-11\n",
      "7-6\n",
      "11-0\n",
      "4-5\n",
      "0-1\n",
      "4-16\n",
      "0-9\n",
      "2-8\n",
      "6-11\n",
      "3-4\n",
      "7-1\n",
      "4-2\n",
      "11-8\n",
      "12-8\n",
      "11-9\n",
      "5-4\n",
      "0-6\n",
      "12-2\n",
      "7-11\n",
      "11-6\n",
      "4-11\n",
      "0-7\n",
      "9-10\n",
      "0-18\n",
      "7-3\n",
      "10-0\n",
      "10-11\n",
      "14-6\n",
      "2-6\n",
      "5-16\n",
      "16-5\n",
      "0-11\n",
      "2-12\n",
      "16-7\n",
      "5-6\n",
      "18-0\n",
      "14-7\n",
      "15-5\n",
      "10-9\n",
      "3-6\n",
      "10-8\n",
      "8-12\n",
      "14-0\n",
      "5-0\n",
      "16-15\n",
      "8-5\n",
      "5-3\n",
      "15-0\n",
      "16-6\n",
      "1-6\n",
      "11-4\n",
      "15-3\n",
      "0-15\n",
      "2-14\n",
      "15-2\n",
      "7-4\n",
      "4-7\n",
      "1-8\n",
      "8-1\n",
      "11-7\n",
      "9-0\n",
      "0-10\n",
      "0-8\n",
      "2-5\n",
      "0-14\n",
      "3-0\n",
      "8-0\n",
      "0-4\n",
      "3-5\n",
      "1-5\n",
      "1-7\n",
      "5-11\n",
      "3-1\n"
     ]
    }
   ],
   "source": [
    "def draw_graph():\n",
    "    t = data[data['ego_id']==1709396984692]\n",
    "    t.shape\n",
    "    for i in zip(t['u'], t['v']):\n",
    "        print(i[0], '-', i[1], sep='')\n",
    "draw_graph()"
   ]
  },
  {
   "cell_type": "code",
   "execution_count": 24,
   "id": "71e2d6b4",
   "metadata": {},
   "outputs": [
    {
     "data": {
      "text/html": [
       "<div>\n",
       "<style scoped>\n",
       "    .dataframe tbody tr th:only-of-type {\n",
       "        vertical-align: middle;\n",
       "    }\n",
       "\n",
       "    .dataframe tbody tr th {\n",
       "        vertical-align: top;\n",
       "    }\n",
       "\n",
       "    .dataframe thead th {\n",
       "        text-align: right;\n",
       "    }\n",
       "</style>\n",
       "<table border=\"1\" class=\"dataframe\">\n",
       "  <thead>\n",
       "    <tr style=\"text-align: right;\">\n",
       "      <th></th>\n",
       "      <th>ego_id</th>\n",
       "      <th>u</th>\n",
       "      <th>v</th>\n",
       "      <th>x1</th>\n",
       "    </tr>\n",
       "  </thead>\n",
       "  <tbody>\n",
       "    <tr>\n",
       "      <th>0</th>\n",
       "      <td>8</td>\n",
       "      <td>0</td>\n",
       "      <td>93</td>\n",
       "      <td>0.000000</td>\n",
       "    </tr>\n",
       "    <tr>\n",
       "      <th>1</th>\n",
       "      <td>8</td>\n",
       "      <td>0</td>\n",
       "      <td>143</td>\n",
       "      <td>0.000000</td>\n",
       "    </tr>\n",
       "    <tr>\n",
       "      <th>2</th>\n",
       "      <td>8</td>\n",
       "      <td>0</td>\n",
       "      <td>151</td>\n",
       "      <td>1.606742</td>\n",
       "    </tr>\n",
       "    <tr>\n",
       "      <th>3</th>\n",
       "      <td>8</td>\n",
       "      <td>1</td>\n",
       "      <td>24</td>\n",
       "      <td>0.026496</td>\n",
       "    </tr>\n",
       "    <tr>\n",
       "      <th>4</th>\n",
       "      <td>8</td>\n",
       "      <td>5</td>\n",
       "      <td>4</td>\n",
       "      <td>0.159857</td>\n",
       "    </tr>\n",
       "    <tr>\n",
       "      <th>...</th>\n",
       "      <td>...</td>\n",
       "      <td>...</td>\n",
       "      <td>...</td>\n",
       "      <td>...</td>\n",
       "    </tr>\n",
       "    <tr>\n",
       "      <th>95</th>\n",
       "      <td>28</td>\n",
       "      <td>122</td>\n",
       "      <td>229</td>\n",
       "      <td>0.525159</td>\n",
       "    </tr>\n",
       "    <tr>\n",
       "      <th>96</th>\n",
       "      <td>28</td>\n",
       "      <td>123</td>\n",
       "      <td>110</td>\n",
       "      <td>0.009399</td>\n",
       "    </tr>\n",
       "    <tr>\n",
       "      <th>97</th>\n",
       "      <td>28</td>\n",
       "      <td>126</td>\n",
       "      <td>116</td>\n",
       "      <td>0.117795</td>\n",
       "    </tr>\n",
       "    <tr>\n",
       "      <th>98</th>\n",
       "      <td>28</td>\n",
       "      <td>130</td>\n",
       "      <td>92</td>\n",
       "      <td>0.070024</td>\n",
       "    </tr>\n",
       "    <tr>\n",
       "      <th>99</th>\n",
       "      <td>28</td>\n",
       "      <td>130</td>\n",
       "      <td>173</td>\n",
       "      <td>0.233055</td>\n",
       "    </tr>\n",
       "  </tbody>\n",
       "</table>\n",
       "<p>100 rows × 4 columns</p>\n",
       "</div>"
      ],
      "text/plain": [
       "    ego_id    u    v        x1\n",
       "0        8    0   93  0.000000\n",
       "1        8    0  143  0.000000\n",
       "2        8    0  151  1.606742\n",
       "3        8    1   24  0.026496\n",
       "4        8    5    4  0.159857\n",
       "..     ...  ...  ...       ...\n",
       "95      28  122  229  0.525159\n",
       "96      28  123  110  0.009399\n",
       "97      28  126  116  0.117795\n",
       "98      28  130   92  0.070024\n",
       "99      28  130  173  0.233055\n",
       "\n",
       "[100 rows x 4 columns]"
      ]
     },
     "execution_count": 24,
     "metadata": {},
     "output_type": "execute_result"
    }
   ],
   "source": [
    "submission.head(100)"
   ]
  },
  {
   "cell_type": "code",
   "execution_count": null,
   "id": "374a8e68",
   "metadata": {},
   "outputs": [],
   "source": [
    "# get graph\n",
    "\n",
    "for u, v in zip(submission_ego_net[\"u\"], submission_ego_net[\"v\"]):\n",
    "    if "
   ]
  },
  {
   "cell_type": "markdown",
   "id": "f647f5d9",
   "metadata": {},
   "source": [
    "Проверочные данные - недоступны участникам, используются для подсчёта метрики:"
   ]
  },
  {
   "cell_type": "markdown",
   "id": "c979f99f",
   "metadata": {},
   "source": [
    "Таблицы control и submission отличаются только последним столбцом x1. В таблице control в этом столбце содержатся истинные значения связей x1."
   ]
  },
  {
   "cell_type": "code",
   "execution_count": 8,
   "id": "b3144199",
   "metadata": {},
   "outputs": [
    {
     "data": {
      "text/plain": [
       "True"
      ]
     },
     "execution_count": 8,
     "metadata": {},
     "output_type": "execute_result"
    }
   ],
   "source": [
    "control[[\"ego_id\", \"u\", \"v\"]].equals(submission[[\"ego_id\", \"u\", \"v\"]])"
   ]
  },
  {
   "cell_type": "markdown",
   "id": "4506a1ca",
   "metadata": {},
   "source": [
    "Таблица submission отсортирована по возрастанию ego_id, u, v:"
   ]
  },
  {
   "cell_type": "code",
   "execution_count": 9,
   "id": "4ee95b50",
   "metadata": {},
   "outputs": [
    {
     "data": {
      "text/plain": [
       "True"
      ]
     },
     "execution_count": 9,
     "metadata": {},
     "output_type": "execute_result"
    }
   ],
   "source": [
    "submission.equals(submission.sort_values([\"ego_id\", \"u\", \"v\"]))"
   ]
  },
  {
   "cell_type": "code",
   "execution_count": 10,
   "id": "b51f4795",
   "metadata": {},
   "outputs": [
    {
     "data": {
      "text/html": [
       "<div>\n",
       "<style scoped>\n",
       "    .dataframe tbody tr th:only-of-type {\n",
       "        vertical-align: middle;\n",
       "    }\n",
       "\n",
       "    .dataframe tbody tr th {\n",
       "        vertical-align: top;\n",
       "    }\n",
       "\n",
       "    .dataframe thead th {\n",
       "        text-align: right;\n",
       "    }\n",
       "</style>\n",
       "<table border=\"1\" class=\"dataframe\">\n",
       "  <thead>\n",
       "    <tr style=\"text-align: right;\">\n",
       "      <th></th>\n",
       "      <th>ego_id</th>\n",
       "      <th>u</th>\n",
       "      <th>v</th>\n",
       "      <th>x1</th>\n",
       "    </tr>\n",
       "  </thead>\n",
       "  <tbody>\n",
       "    <tr>\n",
       "      <th>0</th>\n",
       "      <td>8</td>\n",
       "      <td>0</td>\n",
       "      <td>93</td>\n",
       "      <td>0.000000</td>\n",
       "    </tr>\n",
       "    <tr>\n",
       "      <th>1</th>\n",
       "      <td>8</td>\n",
       "      <td>0</td>\n",
       "      <td>143</td>\n",
       "      <td>0.000000</td>\n",
       "    </tr>\n",
       "    <tr>\n",
       "      <th>2</th>\n",
       "      <td>8</td>\n",
       "      <td>0</td>\n",
       "      <td>151</td>\n",
       "      <td>1.606742</td>\n",
       "    </tr>\n",
       "    <tr>\n",
       "      <th>3</th>\n",
       "      <td>8</td>\n",
       "      <td>1</td>\n",
       "      <td>24</td>\n",
       "      <td>0.026496</td>\n",
       "    </tr>\n",
       "    <tr>\n",
       "      <th>4</th>\n",
       "      <td>8</td>\n",
       "      <td>5</td>\n",
       "      <td>4</td>\n",
       "      <td>0.159857</td>\n",
       "    </tr>\n",
       "  </tbody>\n",
       "</table>\n",
       "</div>"
      ],
      "text/plain": [
       "   ego_id  u    v        x1\n",
       "0       8  0   93  0.000000\n",
       "1       8  0  143  0.000000\n",
       "2       8  0  151  1.606742\n",
       "3       8  1   24  0.026496\n",
       "4       8  5    4  0.159857"
      ]
     },
     "execution_count": 10,
     "metadata": {},
     "output_type": "execute_result"
    }
   ],
   "source": [
    "submission.head()"
   ]
  },
  {
   "cell_type": "markdown",
   "id": "834268e1",
   "metadata": {},
   "source": [
    "# Модель"
   ]
  },
  {
   "cell_type": "code",
   "execution_count": 11,
   "id": "e0122120",
   "metadata": {},
   "outputs": [
    {
     "data": {
      "text/plain": [
       "ego_id\n",
       "901943132599     349\n",
       "721554506143     328\n",
       "1400159338751    298\n",
       "1039382085802    270\n",
       "575525618423     262\n",
       "                ... \n",
       "1142461301166      1\n",
       "515396076193       1\n",
       "515396076373       1\n",
       "51539608193        1\n",
       "1245540516719      1\n",
       "Name: count, Length: 20586, dtype: int64"
      ]
     },
     "execution_count": 11,
     "metadata": {},
     "output_type": "execute_result"
    }
   ],
   "source": [
    "submission[\"ego_id\"].value_counts()"
   ]
  },
  {
   "cell_type": "markdown",
   "id": "f539298f",
   "metadata": {},
   "source": [
    "Константное предсказание:"
   ]
  },
  {
   "cell_type": "code",
   "execution_count": 12,
   "id": "b9a2ab62",
   "metadata": {},
   "outputs": [
    {
     "name": "stdout",
     "output_type": "stream",
     "text": [
      "CPU times: total: 281 ms\n",
      "Wall time: 290 ms\n"
     ]
    }
   ],
   "source": [
    "%%time\n",
    "\n",
    "submission_dummy = submission.copy()\n",
    "submission_dummy[\"x1\"] = np.nanmean(test[\"x1\"].values)"
   ]
  },
  {
   "cell_type": "code",
   "execution_count": 13,
   "id": "d7265275",
   "metadata": {},
   "outputs": [
    {
     "data": {
      "text/plain": [
       "14.5"
      ]
     },
     "execution_count": 13,
     "metadata": {},
     "output_type": "execute_result"
    }
   ],
   "source": [
    "df = pd.DataFrame()\n",
    "df['u'] = np.array([1, 2, 3, 4])\n",
    "df['x1'] = np.array([10, 10, 10, 10])\n",
    "\n",
    "\n",
    "df1 = pd.DataFrame()\n",
    "df1['u'] = np.array([2, 3, 4])\n",
    "df1['x1'] = np.array([19, 19, 19])\n",
    "\n",
    "\n",
    "t = df1.merge(df, on='u')\n",
    "np.mean(t.drop(\"u\", axis=1).values, axis = None)\n",
    "\n",
    "\n"
   ]
  },
  {
   "cell_type": "code",
   "execution_count": 14,
   "id": "e9238b4b",
   "metadata": {},
   "outputs": [
    {
     "name": "stderr",
     "output_type": "stream",
     "text": [
      "100%|████████████████████████████████████████████████████████████████████████████| 20586/20586 [40:35<00:00,  8.45it/s]"
     ]
    },
    {
     "name": "stdout",
     "output_type": "stream",
     "text": [
      "CPU times: total: 40min 38s\n",
      "Wall time: 40min 35s\n"
     ]
    },
    {
     "name": "stderr",
     "output_type": "stream",
     "text": [
      "\n"
     ]
    }
   ],
   "source": [
    "%%time\n",
    "\n",
    "from tqdm import tqdm\n",
    "\n",
    "\n",
    "ego_id_list = submission[\"ego_id\"].drop_duplicates().values\n",
    "for ego_id in tqdm(ego_id_list):\n",
    "    submission_ego_net = submission[submission[\"ego_id\"] == ego_id]\n",
    "    test_ego_net = test[test[\"ego_id\"] == ego_id]\n",
    "    friendship = np.zeros_like(submission_ego_net[\"x1\"].values)\n",
    "    for i, (u, v) in enumerate(zip(submission_ego_net[\"u\"], submission_ego_net[\"v\"])):\n",
    "        u_x1 = test_ego_net.loc[test_ego_net[\"u\"] == u, [\"v\", \"x1\"]].dropna()\n",
    "        v_x1 = test_ego_net.loc[test_ego_net[\"u\"] == v, [\"v\", \"x1\"]].dropna()\n",
    "        common_friends = u_x1.merge(v_x1, on=\"v\")\n",
    "        if common_friends.shape[0] > 0:\n",
    "            friendship[i] = np.mean(common_friends.drop(\"v\", axis=1).values)\n",
    "    submission.loc[submission[\"ego_id\"] == ego_id, \"x1\"] = friendship"
   ]
  },
  {
   "cell_type": "markdown",
   "id": "6e9ceb0e",
   "metadata": {},
   "source": [
    "# Посчёт метрик"
   ]
  },
  {
   "cell_type": "code",
   "execution_count": 15,
   "id": "aa8c927f",
   "metadata": {},
   "outputs": [],
   "source": [
    "def RMSE(y_true, y_pred):\n",
    "    return mean_squared_error(y_true, y_pred, squared=False)"
   ]
  },
  {
   "cell_type": "code",
   "execution_count": 16,
   "id": "dade027d",
   "metadata": {},
   "outputs": [
    {
     "name": "stdout",
     "output_type": "stream",
     "text": [
      "Dummy model RMSE: 0.9073352538252178\n"
     ]
    }
   ],
   "source": [
    "print(\"Dummy model RMSE: {}\".format(RMSE(control[\"x1\"], submission_dummy[\"x1\"])))"
   ]
  },
  {
   "cell_type": "code",
   "execution_count": 17,
   "id": "32f3c1fc",
   "metadata": {},
   "outputs": [
    {
     "name": "stdout",
     "output_type": "stream",
     "text": [
      "Baseline model RMSE: 1.440427694215907e-07\n"
     ]
    }
   ],
   "source": [
    "print(\"Baseline model RMSE: {}\".format(RMSE(control[\"x1\"], submission[\"x1\"])))"
   ]
  },
  {
   "cell_type": "code",
   "execution_count": 18,
   "id": "0138bcac",
   "metadata": {},
   "outputs": [
    {
     "data": {
      "text/html": [
       "<div>\n",
       "<style scoped>\n",
       "    .dataframe tbody tr th:only-of-type {\n",
       "        vertical-align: middle;\n",
       "    }\n",
       "\n",
       "    .dataframe tbody tr th {\n",
       "        vertical-align: top;\n",
       "    }\n",
       "\n",
       "    .dataframe thead th {\n",
       "        text-align: right;\n",
       "    }\n",
       "</style>\n",
       "<table border=\"1\" class=\"dataframe\">\n",
       "  <thead>\n",
       "    <tr style=\"text-align: right;\">\n",
       "      <th></th>\n",
       "      <th>ego_id</th>\n",
       "      <th>u</th>\n",
       "      <th>v</th>\n",
       "      <th>x1</th>\n",
       "    </tr>\n",
       "  </thead>\n",
       "  <tbody>\n",
       "    <tr>\n",
       "      <th>0</th>\n",
       "      <td>8</td>\n",
       "      <td>0</td>\n",
       "      <td>93</td>\n",
       "      <td>0.000000</td>\n",
       "    </tr>\n",
       "    <tr>\n",
       "      <th>1</th>\n",
       "      <td>8</td>\n",
       "      <td>0</td>\n",
       "      <td>143</td>\n",
       "      <td>0.000000</td>\n",
       "    </tr>\n",
       "    <tr>\n",
       "      <th>2</th>\n",
       "      <td>8</td>\n",
       "      <td>0</td>\n",
       "      <td>151</td>\n",
       "      <td>1.606742</td>\n",
       "    </tr>\n",
       "    <tr>\n",
       "      <th>3</th>\n",
       "      <td>8</td>\n",
       "      <td>1</td>\n",
       "      <td>24</td>\n",
       "      <td>0.026496</td>\n",
       "    </tr>\n",
       "    <tr>\n",
       "      <th>4</th>\n",
       "      <td>8</td>\n",
       "      <td>5</td>\n",
       "      <td>4</td>\n",
       "      <td>0.159857</td>\n",
       "    </tr>\n",
       "  </tbody>\n",
       "</table>\n",
       "</div>"
      ],
      "text/plain": [
       "   ego_id  u    v        x1\n",
       "0       8  0   93  0.000000\n",
       "1       8  0  143  0.000000\n",
       "2       8  0  151  1.606742\n",
       "3       8  1   24  0.026496\n",
       "4       8  5    4  0.159857"
      ]
     },
     "execution_count": 18,
     "metadata": {},
     "output_type": "execute_result"
    }
   ],
   "source": [
    "submission.head()"
   ]
  },
  {
   "cell_type": "code",
   "execution_count": 19,
   "id": "1394df0e",
   "metadata": {},
   "outputs": [],
   "source": [
    "submission.to_csv('nmbits.csv')"
   ]
  },
  {
   "cell_type": "code",
   "execution_count": null,
   "id": "5bfe493b",
   "metadata": {},
   "outputs": [],
   "source": []
  }
 ],
 "metadata": {
  "kernelspec": {
   "display_name": "Python 3 (ipykernel)",
   "language": "python",
   "name": "python3"
  },
  "language_info": {
   "codemirror_mode": {
    "name": "ipython",
    "version": 3
   },
   "file_extension": ".py",
   "mimetype": "text/x-python",
   "name": "python",
   "nbconvert_exporter": "python",
   "pygments_lexer": "ipython3",
   "version": "3.11.3"
  }
 },
 "nbformat": 4,
 "nbformat_minor": 5
}
